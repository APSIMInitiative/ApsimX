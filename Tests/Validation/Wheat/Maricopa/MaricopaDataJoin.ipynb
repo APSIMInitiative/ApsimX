{
 "cells": [
  {
   "cell_type": "code",
   "execution_count": 10,
   "id": "35186884-4669-41a7-b446-98e323a5de40",
   "metadata": {
    "tags": []
   },
   "outputs": [],
   "source": [
    "import datetime as dt\n",
    "import pandas as pd\n",
    "import numpy as np\n",
    "import matplotlib.pyplot as plt"
   ]
  },
  {
   "cell_type": "code",
   "execution_count": 11,
   "id": "3acba6e2-59f3-4533-bc07-5609e25a8303",
   "metadata": {
    "tags": []
   },
   "outputs": [],
   "source": [
    "fileName = \"C:\\GitHubRepos\\ApsimX\\Tests\\Validation\\Wheat\\Maricopa\\MARICOPA Wheat FACE data_2024-10-25 (ICASA data format v4.1)(PM6)(BAK1)(no soil temp).xlsx\""
   ]
  },
  {
   "cell_type": "code",
   "execution_count": 12,
   "id": "c5fd8234-829e-41f0-bf13-b441bcfbab4e",
   "metadata": {
    "tags": []
   },
   "outputs": [],
   "source": [
    "NameMapExcel = pd.read_excel(\"C:\\GitHubRepos\\ApsimX\\Tests\\Validation\\Wheat\\Maricopa\\SimNameMap.xlsx\")\n",
    "NameMap = dict(zip(NameMapExcel.Code.values,NameMapExcel.SimulationName.values))\n",
    "VariableMapExcel = pd.read_excel(\"C:\\GitHubRepos\\ApsimX\\Tests\\Validation\\Wheat\\Maricopa\\VariableNameMap.xlsx\")\n",
    "VariableMapExcel.set_index('AGMIPName',inplace=True)\n",
    "VariableMapExcel.drop_duplicates(inplace=True)\n",
    "VarMap = dict(zip(VariableMapExcel.index.values,VariableMapExcel.Renamed))"
   ]
  },
  {
   "cell_type": "code",
   "execution_count": 13,
   "id": "1112b002-5f99-4d86-9ac5-8889edcdcd3c",
   "metadata": {
    "tags": []
   },
   "outputs": [],
   "source": [
    "Harvest= pd.read_excel(fileName,sheet_name='Obs_crop_summary_plots',skiprows=[1,2])\n",
    "Harvest.columns = [VarMap[x] for x in Harvest.columns]\n",
    "Harvest.loc[:,'SimulationName']= [NameMap[x] for x in Harvest.loc[:,'treatment_ID']]\n",
    "Harvest.set_index(['SimulationName','Clock.Today'],inplace=True)\n",
    "Harvest.loc[:,'Wheat.Phenology.AnthesisDAS'] = Harvest.anthesis_date-Harvest.planting_date\n",
    "Harvest.loc[:,'Wheat.Phenology.MaturityDAS'] = Harvest.physiologic_maturity_dat-Harvest.planting_date\n",
    "\n",
    "HarvFilter = (VariableMapExcel.Timing==\"Harvest\")&(VariableMapExcel.InAPSIM==1)\n",
    "HarvestReportVars = VariableMapExcel.loc[HarvFilter,:].Renamed.values\n",
    "HarvestReports = Harvest.reindex(HarvestReportVars,axis=1)\n",
    "HarvestConversions=dict(zip(VariableMapExcel.loc[HarvFilter,:].Renamed,VariableMapExcel.loc[HarvFilter,:].Conversion))\n",
    "for col in HarvestReports.columns:\n",
    "    HarvestReports.loc[:,col] = HarvestReports.loc[:,col] / HarvestConversions[col]\n",
    "HarvestFinal = HarvestReports.groupby(level=[0,1]).mean().join(HarvestReports.groupby(level=[0,1]).sem(),rsuffix='Error')\n",
    "HarvestFinal.loc[:,'Wheat.Phenology.CurrentStageName'] = \"HarvestRipe\""
   ]
  },
  {
   "cell_type": "code",
   "execution_count": 14,
   "id": "af1a9b17-4951-42b9-bf92-f2a199a1020a",
   "metadata": {
    "tags": []
   },
   "outputs": [],
   "source": [
    "Daily= pd.read_excel(fileName,sheet_name='Obs_crop_daily_plots',skiprows=[1,2])\n",
    "Daily.columns = [VarMap[x] for x in Daily.columns]\n",
    "Daily.loc[:,'SimulationName']= [NameMap[x] for x in Daily.loc[:,'Treatment ID']]\n",
    "Daily.set_index(['SimulationName','Clock.Today'],inplace=True)\n",
    "DailyFilter = (VariableMapExcel.Timing==\"Daily\")&(VariableMapExcel.InAPSIM==1)\n",
    "DailyReportVars = VariableMapExcel.loc[DailyFilter,:].Renamed.values\n",
    "DailyReports = Daily.reindex(DailyReportVars,axis=1)\n",
    "DailyConversions=dict(zip(VariableMapExcel.loc[DailyFilter,:].Renamed,VariableMapExcel.loc[DailyFilter,:].Conversion))\n",
    "for col in DailyReports.columns:\n",
    "    DailyReports.loc[:,col] = DailyReports.loc[:,col] / DailyConversions[col]\n",
    "DailyFinal = DailyReports.groupby(level=[0,1]).mean().join(DailyReports.groupby(level=[0,1]).sem(),rsuffix='Error')"
   ]
  },
  {
   "cell_type": "code",
   "execution_count": 15,
   "id": "b17f6589-b1d4-406e-9fa9-38a40964b841",
   "metadata": {
    "tags": []
   },
   "outputs": [],
   "source": [
    "AllData = pd.concat([HarvestFinal,DailyFinal])\n",
    "AllData.loc[:,\"Wheat.Ear.Wt\"] = AllData.loc[:,\"Wheat.Grain.Wt\"] + AllData.loc[:,\"Wheat.Spike.Wt\"]\n",
    "AllData.loc[:,\"Wheat.Ear.N\"] = AllData.loc[:,\"Wheat.Grain.N\"] + AllData.loc[:,\"Wheat.Spike.N\"]"
   ]
  },
  {
   "cell_type": "code",
   "execution_count": 16,
   "id": "14898f5e-f9b2-446d-884a-2d81f5dd6697",
   "metadata": {
    "tags": []
   },
   "outputs": [],
   "source": [
    "SWCRaw= pd.read_excel(fileName,sheet_name='Soil_moisture_plots',skiprows=[1,2])\n",
    "SWCRaw.loc[:,'SimulationName']= [NameMap[x] for x in SWCRaw.loc[:,'treatment_ID']]\n",
    "SWCRaw.columns = ['experiment_ID', 'treatment_ID', 'Replicate', 'Clock.Today',\n",
    "       'Soil.Depth', 'ObservedLayers.SW', 'SimulationName']\n",
    "\n",
    "SoilLayers = dict(zip(SWCRaw.loc[:,'Soil.Depth'].drop_duplicates().values,range(1,11)))\n",
    "\n",
    "SWCRaw.loc[:,'Layer'] = [SoilLayers[x] for x in SWCRaw.loc[:,'Soil.Depth']]\n",
    "SWCunstacked = SWCRaw.pivot(columns='Layer',index=['SimulationName','Clock.Today','Replicate'],values='ObservedLayers.SW')\n",
    "SWCunstacked.index =    SWCunstacked.index.droplevel(2)\n",
    "SWCunstacked.columns = ['ObservedLayers.SW('+str(x)+')' for x in SWCunstacked.columns]\n",
    "\n",
    "def calcProfileSWC(layers):\n",
    "    lbind = range(len(layers))\n",
    "    profileSum = 0\n",
    "    for l in lbind:\n",
    "        if l == 0:\n",
    "            layerMM = (layers[l] * 300)\n",
    "        else:\n",
    "            layerMM = (layers[l] * 200)\n",
    "        profileSum += layerMM\n",
    "    return profileSum\n",
    "\n",
    "SWCunstacked.loc[:,'sum(ObservedLayers.SWmm)']=[calcProfileSWC(SWCunstacked.iloc[x,:].values) for x in range(SWCunstacked.index.size)]\n",
    "SWCMean = SWCunstacked.groupby(level=[0,1]).mean()\n",
    "SWCSEM = SWCunstacked.groupby(level=[0,1]).sem()\n",
    "AllSWC = SWCMean.join(SWCSEM,rsuffix='Error')\n",
    "AllData = pd.concat([AllData,AllSWC])"
   ]
  },
  {
   "cell_type": "code",
   "execution_count": 17,
   "id": "6f64a962-cc1f-4382-b624-50fc3944dda1",
   "metadata": {
    "tags": []
   },
   "outputs": [],
   "source": [
    "PARRaw = pd.read_excel(fileName,sheet_name='PAR_plots',skiprows=[1,2])\n",
    "PARRaw.loc[:,'SimulationName']= [NameMap[x] for x in PARRaw.loc[:,'treatment_ID']]\n",
    "PARRaw.columns = ['experiment_ID', 'treatment_ID', 'Clock.Today',\n",
    "       'time_of_measurment', 'Replicate', 'PAR_incident_noon',\n",
    "       'PAR_reflected_by_canopy_noon', 'frac_PAR_reflected_by_canopy_noon',\n",
    "       'PAR_transmitted_by_canopy_noon', 'frac_PAR_transmitted_by_canopy_noon',\n",
    "       'PAR_reflected_by_soil_noon', 'frac_PAR_reflected_by_soil_noon',\n",
    "       'PAR_absorbed_canopy_noon', 'Wheat.Leaf.CoverTotal',\n",
    "       'effec_frac_PAR_absorbed_canopy_noon', 'Wheat.Leaf.LAI',\n",
    "       'stem_area_index', 'norm_diff_veg_index', 'SimulationName']\n",
    "PAR = PARRaw.reindex(['SimulationName', 'Clock.Today', 'Wheat.Leaf.CoverTotal','Wheat.Leaf.LAI'],axis=1).set_index(['SimulationName', 'Clock.Today'])\n",
    "AllPAR = PAR.groupby(level=[0,1]).mean().join(PAR.groupby(level=[0,1]).sem(),rsuffix='Error')\n",
    "AllData = pd.concat([AllData,AllPAR])"
   ]
  },
  {
   "cell_type": "code",
   "execution_count": 18,
   "id": "4e64def1-f96d-48e4-a5f8-77521c65944c",
   "metadata": {
    "tags": []
   },
   "outputs": [],
   "source": [
    "NDVIRaw = pd.read_excel(fileName,sheet_name='NDVI_plots',skiprows=[1,2])\n",
    "NDVIRaw.loc[:,'SimulationName']= [NameMap[x] for x in NDVIRaw.loc[:,'treatment_ID']]\n",
    "NDVIRaw.columns = ['experiment_ID', 'treatment_ID', 'Clock.Today',\n",
    "       'time_of_measurment', 'Replicate', 'flag_time_series_data',\n",
    "       'near_infrared_reflectance', 'ratio_veg_index', 'NDVIModel.Script.NDVI',\n",
    "       'SimulationName']\n",
    "NDVI = NDVIRaw.reindex(['SimulationName','Clock.Today','NDVIModel.Script.NDVI'],axis=1).set_index(['SimulationName', 'Clock.Today'])\n",
    "AllNDVI = NDVI.groupby(level=[0,1]).mean().join(NDVI.groupby(level=[0,1]).sem(),rsuffix='Error')\n",
    "AllData = pd.concat([AllData,AllNDVI])"
   ]
  },
  {
   "cell_type": "code",
   "execution_count": 19,
   "id": "91b55fae-718c-4d53-a037-3bec151f072c",
   "metadata": {
    "tags": []
   },
   "outputs": [],
   "source": [
    "EnergyBalRaw =  pd.read_excel(fileName,sheet_name='Daily_CanT_Energy_Bal_means',skiprows=[1,2])\n",
    "EnergyBalRaw.loc[:,'SimulationName']= [NameMap[x] for x in EnergyBalRaw.loc[:,'treatment_ID']]\n",
    "EnergyBalRaw.columns = ['experiment_ID', 'treatment_ID', 'Clock.Today',\n",
    "       'canopy_temp_daily_avg', 'temp_average_daily',\n",
    "       'maximum_canopy_temp_daily', 'maximum_temperature',\n",
    "       'minimum_canopy_temp_daily', 'minimum_temperature',\n",
    "       'temperature_noon_canopy', 'temperature_noon_air',\n",
    "       'net_radiation_daily', 'sensible_heat_daily', 'ground_heat_daily', 'latent_heat_daily', \n",
    "       '([Wheat].Leaf.Transpiration + [Soil].SoilWater.Es + [MicroClimate].PrecipitationInterception)', 'SimulationName']\n",
    "EnergyBal = EnergyBalRaw.reindex(['SimulationName','Clock.Today',\n",
    "                                  '([Wheat].Leaf.Transpiration + [Soil].SoilWater.Es + [MicroClimate].PrecipitationInterception)'],axis=1).set_index(['SimulationName', 'Clock.Today'])\n",
    "AllEnergyBal = EnergyBal.groupby(level=[0,1]).mean()#.join(EnergyBal.groupby(level=[0,1]).sem(),rsuffix='Error')\n",
    "AllData = pd.concat([AllData,AllEnergyBal])"
   ]
  },
  {
   "cell_type": "code",
   "execution_count": 20,
   "id": "b66d6d75-86e6-4d57-b14d-64aea0d945ab",
   "metadata": {
    "tags": []
   },
   "outputs": [],
   "source": [
    "PlantingDates =  pd.read_excel(fileName,sheet_name='Planting_events',skiprows=[1,2])\n",
    "SowDates = dict(zip([NameMap[x] for x in PlantingDates.treatment_ID.values],PlantingDates.planting_date))\n",
    "DAS = []\n",
    "for i in AllData.index:\n",
    "    date = i[1].to_datetime64()\n",
    "    sowdate = SowDates[i[0]].to_datetime64()\n",
    "    das = (date - sowdate).astype('timedelta64[D]').astype('int')\n",
    "    DAS.append(das)\n",
    "AllData.loc[:,'Wheat.DaysAfterSowing'] = DAS"
   ]
  },
  {
   "cell_type": "code",
   "execution_count": 22,
   "id": "5770c1e8-690c-43e9-8cde-fd21e9459cae",
   "metadata": {
    "tags": []
   },
   "outputs": [],
   "source": [
    "AllData.dropna(how='all',inplace=True)\n",
    "AllData.to_excel(\"..\\Data\\Maricopa.xlsx\",sheet_name=\"Observed\",merge_cells=False)"
   ]
  },
  {
   "cell_type": "code",
   "execution_count": 23,
   "id": "bfbd266f-09d5-4ddb-b7f4-98e23901fbd0",
   "metadata": {
    "tags": []
   },
   "outputs": [
    {
     "data": {
      "text/plain": [
       "['Wheat.Phenology.AnthesisDAS',\n",
       " 'Wheat.Phenology.MaturityDAS',\n",
       " 'Wheat.Phenology.FinalLeafNumber',\n",
       " 'Wheat.Leaf.Live.Wt',\n",
       " 'Wheat.Leaf.Dead.Wt',\n",
       " 'Wheat.Leaf.Wt',\n",
       " 'Wheat.Stem.Wt',\n",
       " 'Wheat.Spike.Wt',\n",
       " 'Wheat.Grain.Wt',\n",
       " 'Wheat.AboveGround.Wt',\n",
       " 'Wheat.Leaf.Live.N',\n",
       " 'Wheat.Leaf.Deat.N',\n",
       " 'Wheat.Leaf.N',\n",
       " 'Wheat.Stem.N',\n",
       " 'Wheat.Spike.N',\n",
       " 'Wheat.Grain.N',\n",
       " 'Wheat.AboveGround.N',\n",
       " 'Wheat.Grain.Number',\n",
       " 'Wheat.Grain.Size',\n",
       " 'Wheat.Grain.Protein',\n",
       " 'Wheat.Phenology.AnthesisDASError',\n",
       " 'Wheat.Phenology.MaturityDASError',\n",
       " 'Wheat.Phenology.FinalLeafNumberError',\n",
       " 'Wheat.Leaf.Live.WtError',\n",
       " 'Wheat.Leaf.Dead.WtError',\n",
       " 'Wheat.Leaf.WtError',\n",
       " 'Wheat.Stem.WtError',\n",
       " 'Wheat.Spike.WtError',\n",
       " 'Wheat.Grain.WtError',\n",
       " 'Wheat.AboveGround.WtError',\n",
       " 'Wheat.Leaf.Live.NError',\n",
       " 'Wheat.Leaf.Deat.NError',\n",
       " 'Wheat.Leaf.NError',\n",
       " 'Wheat.Stem.NError',\n",
       " 'Wheat.Spike.NError',\n",
       " 'Wheat.Grain.NError',\n",
       " 'Wheat.AboveGround.NError',\n",
       " 'Wheat.Grain.NumberError',\n",
       " 'Wheat.Grain.SizeError',\n",
       " 'Wheat.Grain.ProteinError',\n",
       " 'Wheat.Phenology.CurrentStageName',\n",
       " 'Wheat.Population',\n",
       " 'Wheat.Phenology.Zadok.Stage',\n",
       " 'Wheat.Phenology.HaunStage',\n",
       " 'Wheat.Structure.TotalStemPopn',\n",
       " 'Wheat.Spike.HeadNumber',\n",
       " 'Wheat.Leaf.Height',\n",
       " 'Wheat.Leaf.LAI',\n",
       " 'Wheat.Stem.AreaIndex',\n",
       " 'Wheat.Leaf.SpecificArea',\n",
       " 'Wheat.Leaf.Live.Nconc',\n",
       " 'Wheat.Leaf.Dead.N',\n",
       " 'Wheat.PopulationError',\n",
       " 'Wheat.Phenology.Zadok.StageError',\n",
       " 'Wheat.Phenology.HaunStageError',\n",
       " 'Wheat.Structure.TotalStemPopnError',\n",
       " 'Wheat.Spike.HeadNumberError',\n",
       " 'Wheat.Leaf.HeightError',\n",
       " 'Wheat.Leaf.LAIError',\n",
       " 'Wheat.Stem.AreaIndexError',\n",
       " 'Wheat.Leaf.SpecificAreaError',\n",
       " 'Wheat.Leaf.Live.NconcError',\n",
       " 'Wheat.Leaf.Dead.NError',\n",
       " 'Wheat.Ear.Wt',\n",
       " 'Wheat.Ear.N',\n",
       " 'ObservedLayers.SW(1)',\n",
       " 'ObservedLayers.SW(2)',\n",
       " 'ObservedLayers.SW(3)',\n",
       " 'ObservedLayers.SW(4)',\n",
       " 'ObservedLayers.SW(5)',\n",
       " 'ObservedLayers.SW(6)',\n",
       " 'ObservedLayers.SW(7)',\n",
       " 'ObservedLayers.SW(8)',\n",
       " 'ObservedLayers.SW(9)',\n",
       " 'ObservedLayers.SW(10)',\n",
       " 'sum(ObservedLayers.SWmm)',\n",
       " 'ObservedLayers.SW(1)Error',\n",
       " 'ObservedLayers.SW(2)Error',\n",
       " 'ObservedLayers.SW(3)Error',\n",
       " 'ObservedLayers.SW(4)Error',\n",
       " 'ObservedLayers.SW(5)Error',\n",
       " 'ObservedLayers.SW(6)Error',\n",
       " 'ObservedLayers.SW(7)Error',\n",
       " 'ObservedLayers.SW(8)Error',\n",
       " 'ObservedLayers.SW(9)Error',\n",
       " 'ObservedLayers.SW(10)Error',\n",
       " 'sum(ObservedLayers.SWmm)Error',\n",
       " 'Wheat.Leaf.CoverTotal',\n",
       " 'Wheat.Leaf.CoverTotalError',\n",
       " 'NDVIModel.Script.NDVI',\n",
       " 'NDVIModel.Script.NDVIError',\n",
       " '([Wheat].Leaf.Transpiration + [Soil].SoilWater.Es + [MicroClimate].PrecipitationInterception)',\n",
       " 'Wheat.DaysAfterSowing']"
      ]
     },
     "execution_count": 23,
     "metadata": {},
     "output_type": "execute_result"
    }
   ],
   "source": [
    "list(AllData.columns)"
   ]
  }
 ],
 "metadata": {
  "kernelspec": {
   "display_name": "Python 3 (ipykernel)",
   "language": "python",
   "name": "python3"
  },
  "language_info": {
   "codemirror_mode": {
    "name": "ipython",
    "version": 3
   },
   "file_extension": ".py",
   "mimetype": "text/x-python",
   "name": "python",
   "nbconvert_exporter": "python",
   "pygments_lexer": "ipython3",
   "version": "3.10.13"
  }
 },
 "nbformat": 4,
 "nbformat_minor": 5
}
