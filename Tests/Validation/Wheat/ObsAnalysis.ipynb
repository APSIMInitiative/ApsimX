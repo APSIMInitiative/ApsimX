{
 "cells": [
  {
   "cell_type": "code",
   "execution_count": 1,
   "id": "b3dc8afe-dd0c-4d3d-846e-d9fbc66e3f49",
   "metadata": {
    "tags": []
   },
   "outputs": [],
   "source": [
    "import datetime as dt\n",
    "import pandas as pd\n",
    "import numpy as np\n",
    "import matplotlib.pyplot as plt\n",
    "import APSIMGraphHelpers as AGH\n",
    "import GraphHelpers as GH\n",
    "import matplotlib.dates as mdates\n",
    "import MathsUtilities as MUte\n",
    "import sqlite3"
   ]
  },
  {
   "cell_type": "code",
   "execution_count": 2,
   "id": "e88886a3-e3b2-4137-8129-9739643e47f1",
   "metadata": {
    "tags": []
   },
   "outputs": [],
   "source": [
    "Colors = {1:'#000000',\n",
    "2:'#E69F00',\n",
    "3:'#56B4E9',\n",
    "4:'#009E73',\n",
    "5:'#F0E442',\n",
    "6:'#0072B2',\n",
    "7:'#D55E00',\n",
    "8:'#CC79A7',\n",
    "9:'#1F77B4',\n",
    "10:'#AEC7E8',\n",
    "11:'#FF7F0E',\n",
    "12:'#FFBB78',\n",
    "13:'#2CA02C',\n",
    "14:'#98DF8A',\n",
    "15:'#D62728',\n",
    "16:'#FF9896',\n",
    "17:'#9467BD',\n",
    "18:'#C5B0D5',\n",
    "19:'#8C564B',\n",
    "20:'#C49C94',\n",
    "21:'#E377C2',\n",
    "22:'#F7B6D2',\n",
    "23:'#7F7F7F',\n",
    "24:'#C7C7C7',\n",
    "25:'#BCBD22',\n",
    "26:'#DBDB8D',\n",
    "27:'#17BECF',\n",
    "28:'#9EDAE5'}\n",
    "\n",
    "Markers = {1: 'o',\n",
    " 2: '^',\n",
    " 3: 's',\n",
    " 4: '*',\n",
    " 5: '>',\n",
    " 6: 'v',\n",
    " 7: '+',\n",
    " 8: 'X',\n",
    " 9: '<',\n",
    " 10: 'p',\n",
    " 11: '8',\n",
    " 12: 'd',\n",
    " 13:'P',\n",
    " 14:'D',\n",
    " 15:'o',\n",
    " 16:'^'}\n",
    "\n",
    "Lines = {1: '-',\n",
    " 2: '--',\n",
    " 3: '-,',\n",
    " 4: ':',\n",
    " 5: '-',\n",
    " 6: '--',\n",
    " 7: '-,',\n",
    " 8: ':',\n",
    " 9: '-',\n",
    " 10: '--',\n",
    " 11: '-,',\n",
    " 12: ':',\n",
    " 13: '-',\n",
    " 14: '--',\n",
    " 15: '-,',\n",
    " 16: ':'}"
   ]
  },
  {
   "cell_type": "code",
   "execution_count": 3,
   "id": "af052872-996a-44db-96f0-35361820ed31",
   "metadata": {
    "tags": []
   },
   "outputs": [],
   "source": [
    "MasterfilePath = r'C:\\GitHubRepos\\ApsimX\\Tests\\Validation\\Wheat\\Wheat.db'"
   ]
  },
  {
   "cell_type": "code",
   "execution_count": 4,
   "id": "0a9c8496-e073-4289-b65c-6783bf31829f",
   "metadata": {
    "tags": []
   },
   "outputs": [],
   "source": [
    "con = sqlite3.connect(MasterfilePath)\n",
    "Simulations = pd.read_sql(\"Select * from _Simulations\",con)\n",
    "con.close()\n",
    "Simulations.set_index('ID',inplace=True)\n",
    "Simulations.sort_index(inplace=True)\n",
    "Simulations.sort_index(inplace=True, axis=1)"
   ]
  },
  {
   "cell_type": "code",
   "execution_count": 5,
   "id": "8bd83b2f-57af-4767-80e0-0b0cd5b3b836",
   "metadata": {
    "tags": []
   },
   "outputs": [],
   "source": [
    "SensibilityFolders = ['CO2AndTranspirationEfficiency',\n",
    "'CO2AndTemperatureInteractions',\n",
    "'ProteinAccumulation',\n",
    "'LeafAppearance',\n",
    "'TerminalWaterStress',\n",
    "'DetailedDynamics']"
   ]
  },
  {
   "cell_type": "code",
   "execution_count": 6,
   "id": "a5cd9ecc-6cfa-4b45-a987-2818e147e0f9",
   "metadata": {
    "tags": []
   },
   "outputs": [],
   "source": [
    "con = sqlite3.connect(MasterfilePath)\n",
    "HarvestPred = pd.read_sql(\"Select * from HarvestReport\",con).dropna(axis=1,how='all')\n",
    "con.close()\n",
    "HarvestPred.loc[:,'SimulationName'] = [Simulations.loc[x,'Name'] for x in HarvestPred.SimulationID]\n",
    "HarvestPred.set_index(['SimulationName','Clock.Today'],drop=False,inplace=True)\n",
    "HarvestPred.sort_index(inplace=True)\n",
    "HarvestPred.sort_index(inplace=True,axis=1)\n",
    "\n",
    "# Filter outputs from sensibility tests\n",
    "validationFilter = [x not in SensibilityFolders for x in HarvestPred.FolderName]\n",
    "HarvestPred = HarvestPred.loc[validationFilter,:].copy()\n",
    "HarvestPred.dropna(how='all',axis=1,inplace=True)\n",
    "HarvestPred.loc[:,'Wheat.SowingData.Cultivar'] = [x.title() for x in HarvestPred.loc[:,'Wheat.SowingData.Cultivar']]\n",
    "validationFilter = [x not in SensibilityFolders for x in HarvestPred.FolderName]\n",
    "HarvestPred = HarvestPred.loc[validationFilter,:].copy()\n",
    "HarvestPred.dropna(how='all',axis=1,inplace=True)\n",
    "\n",
    "# Replace Experiment with values that have had folder name pathed in where no experiment is present\n",
    "HarvestPred.loc[[x is None for x in HarvestPred.Experiment],'Experiment'] = HarvestPred.loc[[x is None for x in HarvestPred.Experiment],'FolderName']"
   ]
  },
  {
   "cell_type": "code",
   "execution_count": 7,
   "id": "1caf34e8-1e77-4f7a-91ee-1e62109d3107",
   "metadata": {
    "tags": []
   },
   "outputs": [],
   "source": [
    "SowIndices = ['IWeather.Latitude',\n",
    "    'IWeather.Longitude',\n",
    "    'LocationInfo.Script.Country',\n",
    "    'LocationInfo.Script.Region',\n",
    "    'LocationInfo.Script.State',\n",
    "    'Wheat.SowingData.Cultivar',\n",
    "    'Experiment',\n",
    "    'FolderName']\n",
    "\n",
    "def getValue(ind,var,HarvestPred):\n",
    "    try:\n",
    "        return HarvestPred.loc[ind,var].values[0]\n",
    "    except:\n",
    "        return \"\"\n",
    "\n",
    "con = sqlite3.connect(MasterfilePath)\n",
    "Observed = pd.read_sql(\"Select * from Observed\",con).dropna(axis=1,how='all')\n",
    "con.close()\n",
    "Observed.loc[:,'SimulationName'] = [Simulations.loc[x,'Name'] for x in Observed.SimulationID]\n",
    "Observed.set_index(['SimulationName','Clock.Today'],drop=False,inplace=True)\n",
    "Observed.sort_index(inplace=True)\n",
    "Observed.sort_index(inplace=True,axis=1)\n",
    "for s in SowIndices:\n",
    "    Observed.loc[:,s] = [getValue(x,s,HarvestPred) for x in Observed.index.get_level_values(0)]"
   ]
  },
  {
   "cell_type": "code",
   "execution_count": null,
   "id": "a5efe358-610e-43bf-b42e-565cf1126f6b",
   "metadata": {
    "tags": []
   },
   "outputs": [],
   "source": [
    "con = sqlite3.connect(MasterfilePath)\n",
    "DailyPred = pd.read_sql(\"Select * from DailyReport\",con)\n",
    "con.close()\n",
    "DailyPred.loc[:,'SimulationName'] = [Simulations.loc[x,'Name'] for x in DailyPred.SimulationID]\n",
    "DailyPred.set_index(['SimulationName','Clock.Today'],drop=False,inplace=True)\n",
    "DailyPred.sort_index(inplace=True)\n",
    "DailyPred.sort_index(inplace=True,axis=1)\n",
    "validationFilter = [x not in SensibilityFolders for x in DailyPred.FolderName]\n",
    "DailyPred = DailyPred.loc[validationFilter,:].copy()\n",
    "DailyPred.dropna(how='all',axis=1,inplace=True)\n",
    "# Replace Experiment with values that have had folder name pathed in where no experiment is present\n",
    "DailyPred.loc[:,'Experiment'] = [HarvestPred.loc[x,'Experiment'] for x in DailyPred.index.get_level_values(0)]\n",
    "DailyPred.loc[:,'Population'] = [HarvestPred.loc[x,'Wheat.SowingData.Population'] for x in DailyPred.index.get_level_values(0)]\n",
    "## Join NDVI data into daily obs\n",
    "con = sqlite3.connect(MasterfilePath)\n",
    "NDVIPred = pd.read_sql(\"Select * from NDVIDailyReport\",con)\n",
    "con.close()\n",
    "NDVIPred.loc[:,'SimulationName'] = [Simulations.loc[x,'Name'] for x in NDVIPred.SimulationID]\n",
    "NDVIPred.set_index(['SimulationName','Clock.Today'],drop=False,inplace=True)\n",
    "NDVIPred.sort_index(inplace=True)\n",
    "NDVIPred.sort_index(inplace=True,axis=1)\n",
    "\n",
    "validationFilter = [x not in SensibilityFolders for x in NDVIPred.FolderName]\n",
    "NDVIPred = NDVIPred.loc[validationFilter,:].copy()\n",
    "NDVIPred.dropna(how='all',axis=1,inplace=True)\n",
    "##Join NDVI predictions in with others \n",
    "for i in NDVIPred.index:\n",
    "    DailyPred.loc[i,'NDVIModel.Script.NDVI'] = NDVIPred.loc[i,'NDVIModel.Script.NDVI']"
   ]
  },
  {
   "cell_type": "code",
   "execution_count": null,
   "id": "8492d8c8-d13c-4b46-9441-23567816b98d",
   "metadata": {
    "tags": []
   },
   "outputs": [],
   "source": [
    "## Join NDVI data into daily obs\n",
    "con = sqlite3.connect(MasterfilePath)\n",
    "NDVIPred = pd.read_sql(\"Select * from NDVIDailyReport\",con)\n",
    "con.close()\n",
    "NDVIPred.loc[:,'SimulationName'] = [Simulations.loc[x,'Name'] for x in NDVIPred.SimulationID]\n",
    "NDVIPred.set_index(['SimulationName','Clock.Today'],drop=False,inplace=True)\n",
    "NDVIPred.sort_index(inplace=True)\n",
    "NDVIPred.sort_index(inplace=True,axis=1)\n",
    "\n",
    "validationFilter = [x not in SensibilityFolders for x in NDVIPred.FolderName]\n",
    "NDVIPred = NDVIPred.loc[validationFilter,:].copy()\n",
    "NDVIPred.dropna(how='all',axis=1,inplace=True)\n",
    "##Join NDVI predictions in with others \n",
    "for i in NDVIPred.index:\n",
    "    DailyPred.loc[i,'NDVIModel.Script.NDVI'] = NDVIPred.loc[i,'NDVIModel.Script.NDVI']"
   ]
  },
  {
   "cell_type": "code",
   "execution_count": null,
   "id": "303a1049-2e54-45fc-8acb-f8a76c6e0ee4",
   "metadata": {
    "tags": []
   },
   "outputs": [],
   "source": [
    "MasterIndexVars = ['Clock.Today',\n",
    "'IWeather.MaxT',\n",
    "'IWeather.MinT',\n",
    "'IWeather.Radn',\n",
    "'SimulationID',\n",
    "'SimulationName',\n",
    "'Wheat.DaysAfterSowing',\n",
    "'Wheat.Phenology.AccumulatedTT',\n",
    "'Wheat.Phenology.PTQ',\n",
    "'Wheat.Phenology.CurrentPhaseName',\n",
    "'Wheat.Phenology.CurrentStageName',\n",
    "'Wheat.Phenology.Stage']\n",
    "\n",
    "for iv in MasterIndexVars:\n",
    "    Observed.loc[:,iv] = DailyPred.reindex(Observed.index).loc[:,iv]"
   ]
  },
  {
   "cell_type": "code",
   "execution_count": null,
   "id": "5589ef4d-d4ff-470c-bd66-7600e74cdcee",
   "metadata": {
    "tags": []
   },
   "outputs": [],
   "source": [
    "vars = ['Wheat.Spike.Wt','Wheat.Stem.Wt']+['Experiment']\n",
    "data = Observed.loc[:,vars].dropna()\n",
    "Experiments = data.Experiment.drop_duplicates()\n",
    "cpos=1\n",
    "mpos=1\n",
    "for e in Experiments:\n",
    "    exData = data.loc[data.Experiment == e,:]\n",
    "    plt.plot(exData.loc[:,vars[1]],exData.loc[:,vars[0]],Markers[mpos],color=Colors[cpos],label=e)\n",
    "    cpos+=1\n",
    "    mpos+=1\n",
    "plt.legend(bbox_to_anchor=(1.45, 1),numpoints=1)\n",
    "plt.ylabel('Spike.Wt')\n",
    "plt.xlabel('Stem.Wt')"
   ]
  },
  {
   "cell_type": "code",
   "execution_count": null,
   "id": "6b958558-da24-4d2e-8c76-94057d6838e5",
   "metadata": {
    "tags": []
   },
   "outputs": [],
   "source": [
    "vars = ['Wheat.Spike.Wt','Wheat.Phenology.Stage','Wheat.Stem.Wt']+['Experiment']\n",
    "data = Observed.loc[:,vars].dropna()\n",
    "Experiments = data.Experiment.drop_duplicates()\n",
    "cpos=1\n",
    "mpos=1\n",
    "for e in Experiments:\n",
    "    exData = data.loc[data.Experiment == e,:]\n",
    "    plt.plot(exData.loc[:,'Wheat.Phenology.Stage'],exData.loc[:,'Wheat.Spike.Wt']/exData.loc[:,'Wheat.Stem.Wt'],Markers[mpos],color=Colors[cpos],label=e)\n",
    "    cpos+=1\n",
    "    mpos+=1\n",
    "plt.legend(bbox_to_anchor=(1.45, 1),numpoints=1)\n",
    "plt.plot([5.8,6.0,7.0,8.0,11.0],\n",
    "         [0.0,.02,.35,.45,.45],'-')\n",
    "plt.ylabel('Spike.Wt/Stem.Wt')\n",
    "plt.xlabel('Phenology.Stage')"
   ]
  },
  {
   "cell_type": "code",
   "execution_count": null,
   "id": "845a106a-8627-42a6-ba4d-30ce3ec366da",
   "metadata": {
    "tags": []
   },
   "outputs": [],
   "source": [
    "vars = ['Wheat.Leaf.SpecificAreaCanopy','Wheat.Phenology.Stage','IWeather.MaxT']+['Experiment']\n",
    "data = Observed.loc[:,vars].dropna()\n",
    "Experiments = data.Experiment.drop_duplicates()\n",
    "cpos=1\n",
    "mpos=1\n",
    "for e in Experiments:\n",
    "    exData = data.loc[data.Experiment == e,:]\n",
    "    plt.plot(exData.loc[:,'Wheat.Phenology.Stage'],exData.loc[:,'Wheat.Leaf.SpecificAreaCanopy']/exData.loc[:,'IWeather.MaxT'],Markers[mpos],color=Colors[cpos],label=e)\n",
    "    cpos+=1\n",
    "    mpos+=1\n",
    "plt.legend(bbox_to_anchor=(1.45, 1),numpoints=1)\n",
    "plt.ylabel('SLA/MaxT')\n",
    "plt.xlabel('Phenology.Stage')"
   ]
  },
  {
   "cell_type": "code",
   "execution_count": null,
   "id": "6cbe52bd-5b45-4c42-932c-755049c944a4",
   "metadata": {
    "tags": []
   },
   "outputs": [],
   "source": [
    "vars = ['Wheat.Leaf.SpecificAreaCanopy','Wheat.Phenology.Stage','IWeather.MaxT']+['Experiment']\n",
    "data = Observed.loc[:,vars].dropna()\n",
    "Experiments = data.Experiment.drop_duplicates()\n",
    "cpos=1\n",
    "mpos=1\n",
    "for e in Experiments:\n",
    "    exData = data.loc[data.Experiment == e,:]\n",
    "    plt.plot(exData.loc[:,'Wheat.Phenology.Stage'],exData.loc[:,'Wheat.Leaf.SpecificAreaCanopy'],Markers[mpos],color=Colors[cpos],label=e)\n",
    "    cpos+=1\n",
    "    mpos+=1\n",
    "plt.legend(bbox_to_anchor=(1.45, 1),numpoints=1)\n",
    "plt.ylabel('SLA')\n",
    "plt.xlabel('Phenology.Stage')"
   ]
  },
  {
   "cell_type": "code",
   "execution_count": null,
   "id": "c3b68d3e-b0f9-4b36-9873-0c83b70c2cca",
   "metadata": {
    "tags": []
   },
   "outputs": [],
   "source": [
    "vars = ['Wheat.Leaf.SpecificAreaCanopy','Wheat.Phenology.Stage','IWeather.MaxT']+['Experiment']\n",
    "data = Observed.loc[:,vars].dropna()\n",
    "Experiments = data.Experiment.drop_duplicates()\n",
    "for e in Experiments:\n",
    "    exData = data.loc[data.Experiment == e,:]\n",
    "    plt.plot(exData.loc[:,'Wheat.Phenology.Stage'],exData.loc[:,'Wheat.Leaf.SpecificAreaCanopy'],'o',label=e)\n",
    "plt.legend(bbox_to_anchor=(1.45, 1),numpoints=1)"
   ]
  },
  {
   "cell_type": "code",
   "execution_count": null,
   "id": "e3cda303-f58a-4c5a-85ad-a022be10f5e4",
   "metadata": {
    "tags": []
   },
   "outputs": [],
   "source": [
    "vars = ['Wheat.Leaf.SpecificAreaCanopy','Wheat.Phenology.AccumulatedTT']+['Experiment']\n",
    "data = Observed.loc[:,vars].dropna()\n",
    "Experiments = data.Experiment.drop_duplicates()\n",
    "for e in Experiments:\n",
    "    exData = data.loc[data.Experiment == e,:]\n",
    "    plt.plot(exData.loc[:,'Wheat.Phenology.AccumulatedTT'],exData.loc[:,'Wheat.Leaf.SpecificAreaCanopy'],'o',label=e)\n",
    "plt.legend(bbox_to_anchor=(1.45, 1),numpoints=1)"
   ]
  },
  {
   "cell_type": "code",
   "execution_count": null,
   "id": "966faeea-efa2-4c2a-866f-6d261fbfd1ff",
   "metadata": {
    "tags": []
   },
   "outputs": [],
   "source": [
    "vars = ['Wheat.Leaf.SpecificAreaCanopy','IWeather.MinT']+['Experiment']\n",
    "data = Observed.loc[:,vars].dropna()\n",
    "Experiments = data.Experiment.drop_duplicates()\n",
    "for e in Experiments:\n",
    "    exData = data.loc[data.Experiment == e,:]\n",
    "    plt.plot(exData.loc[:,'IWeather.MinT'],exData.loc[:,'Wheat.Leaf.SpecificAreaCanopy'],'o',label=e)\n",
    "plt.legend(bbox_to_anchor=(1.45, 1),numpoints=1)"
   ]
  },
  {
   "cell_type": "code",
   "execution_count": null,
   "id": "c7ac2b53-a816-4768-89bd-cd055db5bcf4",
   "metadata": {
    "tags": []
   },
   "outputs": [],
   "source": [
    "vars = ['Wheat.Leaf.SpecificAreaCanopy','Wheat.Phenology.PTQ']+['Experiment']\n",
    "data = Observed.loc[:,vars].dropna()\n",
    "Experiments = data.Experiment.drop_duplicates()\n",
    "for e in Experiments:\n",
    "    exData = data.loc[data.Experiment == e,:]\n",
    "    plt.plot(exData.loc[:,'Wheat.Phenology.PTQ'],exData.loc[:,'Wheat.Leaf.SpecificAreaCanopy'],'o',label=e)\n",
    "plt.legend(bbox_to_anchor=(1.45, 1),numpoints=1)"
   ]
  },
  {
   "cell_type": "code",
   "execution_count": null,
   "id": "17bd8c13-c438-4f3f-a9f6-5b72dce0b57c",
   "metadata": {
    "tags": []
   },
   "outputs": [],
   "source": [
    "Observed.loc[:,'Wheat.Leaf.StemPopulation'].dropna()"
   ]
  },
  {
   "cell_type": "code",
   "execution_count": null,
   "id": "32ba74c6-7fc4-48c0-a4b1-d6be91e40ad0",
   "metadata": {
    "tags": []
   },
   "outputs": [],
   "source": [
    "vars = ['Wheat.Leaf.StemPopulation','Wheat.Phenology.Stage']+['Experiment']\n",
    "data = Observed.loc[:,vars].dropna()\n",
    "Experiments = data.Experiment.drop_duplicates()\n",
    "cpos=1\n",
    "mpos=1\n",
    "for e in Experiments:\n",
    "    exData = data.loc[data.Experiment == e,:]\n",
    "    plt.plot(exData.loc[:,'Wheat.Phenology.Stage'],exData.loc[:,'Wheat.Leaf.StemPopulation'],Markers[mpos],color=Colors[cpos],label=e)\n",
    "    cpos+=1\n",
    "    mpos+=1\n",
    "    if mpos>16:\n",
    "        mpos=1\n",
    "    if cpos>28:\n",
    "        cpos=1\n",
    "plt.legend(bbox_to_anchor=(1.15, 1),numpoints=1,ncols=3)"
   ]
  },
  {
   "cell_type": "code",
   "execution_count": null,
   "id": "a0ae0168-1f72-4b95-9436-f6790ab2543a",
   "metadata": {
    "tags": []
   },
   "outputs": [],
   "source": [
    "vars = ['Wheat.Leaf.StemPopulation','Wheat.Phenology.Stage']+['Experiment']\n",
    "data = Observed.loc[:,vars].dropna()\n",
    "Experiments = data.Experiment.drop_duplicates()\n",
    "for e in Experiments:\n",
    "    exData = data.loc[data.Experiment == e,:]\n",
    "    plt.plot(exData.loc[:,'Wheat.Phenology.Stage'],exData.loc[:,'Wheat.Leaf.StemPopulation'],'o',label=e)\n",
    "plt.legend(bbox_to_anchor=(1.45, 1),numpoints=1)"
   ]
  },
  {
   "cell_type": "code",
   "execution_count": null,
   "id": "5cb3390b-0863-41c1-8178-94e7f1b34a23",
   "metadata": {
    "tags": []
   },
   "outputs": [],
   "source": [
    "vars = ['Wheat.Phenology.Stage','Wheat.Population']+['Experiment']\n",
    "data = Observed.loc[:,vars].dropna()\n",
    "predData = DailyPred.loc[:,['Wheat.Population','Wheat.Phenology.Stage','Experiment']].dropna()\n",
    "Experiments = data.Experiment.drop_duplicates()\n",
    "graph = plt.figure(figsize=(10,30))\n",
    "pos=1\n",
    "for e in Experiments:\n",
    "    ax=graph.add_subplot(12,3,pos)\n",
    "    exData = data.loc[data.Experiment == e,:]\n",
    "    pexData = predData.loc[predData.Experiment == e,:]\n",
    "    pexData = pexData.loc[pd.to_numeric(pexData.loc[:,'Wheat.Population'])>0]\n",
    "    sims = exData.index.get_level_values(0).drop_duplicates()\n",
    "    cpos=1\n",
    "    for s in sims:\n",
    "        plt.plot(exData.loc[s,'Wheat.Phenology.Stage'],exData.loc[s,'Wheat.Population'],'o',color=Colors[cpos],label=e)\n",
    "        plt.plot(pexData.loc[s,'Wheat.Phenology.Stage'],pexData.loc[s,'Wheat.Population'],'-',color=Colors[cpos],label=e)\n",
    "        cpos+=1\n",
    "    pos+=1\n",
    "    plt.text(0.05,0.85,e,transform=ax.transAxes)\n",
    "    plt.ylim(0,350)\n",
    "#plt.legend(bbox_to_anchor=(1.45, 1),numpoints=1)"
   ]
  },
  {
   "cell_type": "code",
   "execution_count": null,
   "id": "c334651a-5c49-4abd-b810-fd5cc1608824",
   "metadata": {
    "tags": []
   },
   "outputs": [],
   "source": [
    "vars = ['Wheat.Leaf.StemPopulation','Wheat.Phenology.Stage','Wheat.Population','Wheat.Phenology.AccumulatedTT']+['Experiment']\n",
    "data = Observed.loc[:,vars].dropna()\n",
    "Experiments = data.Experiment.drop_duplicates()\n",
    "for e in Experiments:\n",
    "    exData = data.loc[data.Experiment == e,:]\n",
    "    plt.plot(exData.loc[:,'Wheat.Phenology.Stage'],exData.loc[:,'Wheat.Leaf.StemPopulation']/exData.loc[:,'Wheat.Population'],'o',label=e)\n",
    "plt.legend(bbox_to_anchor=(1.45, 1),numpoints=1)"
   ]
  },
  {
   "cell_type": "code",
   "execution_count": null,
   "id": "73efc362-300f-4e2d-acd6-8921c0614b25",
   "metadata": {
    "tags": []
   },
   "outputs": [],
   "source": [
    "vars = ['Wheat.Leaf.StemNumberPerPlant','Wheat.Phenology.Stage','IWeather.MaxT']+['Experiment']\n",
    "data = Observed.loc[:,vars].dropna()\n",
    "Experiments = data.Experiment.drop_duplicates()\n",
    "for e in Experiments:\n",
    "    exData = data.loc[data.Experiment == e,:]\n",
    "    plt.plot(exData.loc[:,'Wheat.Phenology.Stage'],exData.loc[:,'Wheat.Leaf.StemNumberPerPlant'],'o',label=e)\n",
    "plt.legend(bbox_to_anchor=(1.45, 1),numpoints=1)"
   ]
  },
  {
   "cell_type": "code",
   "execution_count": null,
   "id": "393cd194-3163-4bf6-8c18-6426e7ae15b8",
   "metadata": {
    "tags": []
   },
   "outputs": [],
   "source": [
    "simsWithStemPopn = []\n",
    "vars = ['SimulationName','Wheat.Leaf.StemPopulation','Wheat.Phenology.Stage','IWeather.MaxT']+['Experiment']\n",
    "data = Observed.loc[:,vars].dropna()\n",
    "Experiments = data.Experiment.drop_duplicates()\n",
    "cpos=1\n",
    "mpos=1\n",
    "for e in Experiments:\n",
    "    exData = data.loc[data.Experiment == e,:]\n",
    "    plt.plot(exData.loc[:,'Wheat.Phenology.Stage'],exData.loc[:,'Wheat.Leaf.StemPopulation'],Markers[mpos],color=Colors[cpos],label=e)\n",
    "    cpos+=1\n",
    "    mpos+=1\n",
    "    if mpos>16:\n",
    "        mpos=1\n",
    "    if cpos>28:\n",
    "        cpos=1\n",
    "    sims = exData.SimulationName.drop_duplicates()\n",
    "    for s in sims:\n",
    "        simsWithStemPopn.append(s)\n",
    "plt.legend(bbox_to_anchor=(1.45, 1),numpoints=1)"
   ]
  },
  {
   "cell_type": "code",
   "execution_count": null,
   "id": "98a9d0e8-6783-4912-a354-b20854414f29",
   "metadata": {
    "tags": []
   },
   "outputs": [],
   "source": [
    "simsWithStemPopn"
   ]
  },
  {
   "cell_type": "code",
   "execution_count": null,
   "id": "92bc59df-74d4-49e4-b02e-8ae573a200db",
   "metadata": {
    "tags": []
   },
   "outputs": [],
   "source": [
    "DailyPred.loc[simsWithStemPopn,'Wheat.Population'].drop_duplicates()"
   ]
  }
 ],
 "metadata": {
  "kernelspec": {
   "display_name": "Python 3 (ipykernel)",
   "language": "python",
   "name": "python3"
  },
  "language_info": {
   "codemirror_mode": {
    "name": "ipython",
    "version": 3
   },
   "file_extension": ".py",
   "mimetype": "text/x-python",
   "name": "python",
   "nbconvert_exporter": "python",
   "pygments_lexer": "ipython3",
   "version": "3.10.13"
  }
 },
 "nbformat": 4,
 "nbformat_minor": 5
}
