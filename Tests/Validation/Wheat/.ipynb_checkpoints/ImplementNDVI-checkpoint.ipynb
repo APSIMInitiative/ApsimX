{
 "cells": [
  {
   "cell_type": "code",
   "execution_count": 1,
   "metadata": {
    "tags": []
   },
   "outputs": [],
   "source": [
    "import datetime\n",
    "import pandas as pd\n",
    "import numpy as np\n",
    "import matplotlib.pyplot as plt\n",
    "import xml.etree.ElementTree as ET\n",
    "import xmltodict, json\n",
    "import ast\n",
    "import numbers\n",
    "import shlex # package to construct the git command to subprocess format\n",
    "import subprocess \n",
    "import os\n",
    "%matplotlib inline"
   ]
  },
  {
   "cell_type": "code",
   "execution_count": 2,
   "metadata": {
    "tags": []
   },
   "outputs": [],
   "source": [
    "MasterFile = 'C:\\GitHubRepos\\ApsimX\\Tests\\Validation\\Wheat\\Wheat.apsimx'"
   ]
  },
  {
   "cell_type": "code",
   "execution_count": 7,
   "metadata": {
    "tags": []
   },
   "outputs": [],
   "source": [
    "def findModel(Parent,modelPath):\n",
    "    PathElements = modelPath.split('.')\n",
    "    return findModelFromElements(Parent,PathElements)\n",
    "\n",
    "def findModelFromElements(Parent,PathElements):\n",
    "    for pe in PathElements:\n",
    "        Parent = findNextChild(Parent,pe)\n",
    "    return Parent\n",
    "\n",
    "def findNextChild(Parent,ChildName):\n",
    "    if len(Parent['Children']) >0:\n",
    "        for child in range(len(Parent['Children'])):\n",
    "            if Parent['Children'][child]['Name'] == ChildName:\n",
    "                return Parent['Children'][child]\n",
    "    else:\n",
    "        return Parent[ChildName]\n",
    "\n",
    "def swapModels(Parent,modelName,modelType):\n",
    "    pos=0\n",
    "    for c in Parent['Children']:\n",
    "        if (c['Name'] == modelName) and (c['$type'] == modelType):\n",
    "            params = {c[\"Parameters\"][0]['Key']:float(c[\"Parameters\"][0]['Value']),\n",
    "                     c[\"Parameters\"][1]['Key']:float(c[\"Parameters\"][1]['Value']),\n",
    "                     c[\"Parameters\"][2]['Key']:float(c[\"Parameters\"][2]['Value']),\n",
    "                     c[\"Parameters\"][3]['Key']:float(c[\"Parameters\"][3]['Value'])}\n",
    "            NewModel = {\n",
    "                          \"$type\": \"Models.Sensor.Spectral, Models\",\n",
    "                          \"DrySoilNDVI\": params[\"DrySoilNDVI\"],\n",
    "                          \"WetSoilNDVI\": params[\"WetSoilNDVI\"],\n",
    "                          \"GreenCropNDVI\": params[\"GreenCropNDVI\"],\n",
    "                          \"DeadCropNDVI\": params[\"DeadCropNDVI\"],\n",
    "                          \"NDVI\": 0.0,\n",
    "                          \"Name\": \"Spectral\",\n",
    "                          \"ResourceName\": None,\n",
    "                          \"Children\": [],\n",
    "                          \"Enabled\": True,\n",
    "                          \"ReadOnly\": False\n",
    "                        }\n",
    "            Parent['Children'].append(NewModel)\n",
    "            del Parent['Children'][pos]            \n",
    "        swapModels(c,modelName,modelType)\n",
    "        pos+=1"
   ]
  },
  {
   "cell_type": "code",
   "execution_count": 8,
   "metadata": {
    "tags": []
   },
   "outputs": [],
   "source": [
    "## Read wheat test file into json object\n",
    "with open(MasterFile,'r') as MasterJSON:\n",
    "    Master = json.load(MasterJSON)\n",
    "    MasterJSON.close()\n",
    "\n",
    "swapModels(Master,\"NDVIModel\",\"Models.Manager, Models\")\n",
    "\n",
    "with open(MasterFile,'w') as WheatTestsJSON:\n",
    "    json.dump(Master ,WheatTestsJSON,indent=2)"
   ]
  },
  {
   "cell_type": "code",
   "execution_count": null,
   "metadata": {},
   "outputs": [],
   "source": [
    "replacements = {'[NDVIModel].Script.NDVI':'["
   ]
  },
  {
   "cell_type": "code",
   "execution_count": null,
   "metadata": {
    "tags": []
   },
   "outputs": [],
   "source": [
    "#replacements = pd.read_excel(VariableRenamesFile,index_col=0,sheet_name = 'SimpleLeafRenames').to_dict()['SimpleLeaf']\n",
    "with open(ImplementedFile, 'r') as file: \n",
    "    data = file.read() \n",
    "    for v in replacements.keys():\n",
    "        data = data.replace(v, replacements[v])\n",
    "        w = v.replace('Wheat','[Wheat]')\n",
    "        rw = replacements[v].replace('Wheat','[Wheat]')\n",
    "        data = data.replace(w, rw)\n",
    "        \n",
    "# Opening our text file in write only \n",
    "# mode to write the replaced content \n",
    "with open(ImplementedFile, 'w') as file: \n",
    "  \n",
    "    # Writing the replaced data in our \n",
    "    # text file \n",
    "    file.write(data) "
   ]
  },
  {
   "cell_type": "code",
   "execution_count": null,
   "metadata": {
    "tags": []
   },
   "outputs": [],
   "source": [
    "VariableRenames = pd.read_excel(VariableRenamesFile,index_col=0, sheet_name='SimpleLeafRenames').to_dict()['SimpleLeaf']\n",
    "MaxLeafSizeRenames = pd.read_excel(VariableRenamesFile,index_col=0, sheet_name='MaxLeafSizeRenames').to_dict()['SimpleLeaf']\n",
    "\n",
    "from pathlib import Path\n",
    "fileLoc = 'C:\\GitHubRepos\\ApsimX\\Tests\\Validation\\Wheat\\data'\n",
    "Allcols = []\n",
    "pathlist = Path(fileLoc).glob('**/*.xlsx')\n",
    "for path in pathlist:\n",
    "    # because path is object not string\n",
    "    obsDat = pd.read_excel(path, engine='openpyxl',sheet_name='Observed')\n",
    "    newCols = []\n",
    "    replace = False\n",
    "    for c in obsDat.columns:\n",
    "        if c in VariableRenames.keys():\n",
    "            newCols.append(c.replace(c,VariableRenames[c]))\n",
    "            replace = True\n",
    "            if c == \"Wheat.Leaf.Tips\":\n",
    "                print(str(path) + \" tips\")\n",
    "        else:\n",
    "            newCols.append(c)\n",
    "    if replace == True:\n",
    "        obsDat.columns = newCols\n",
    "        with pd.ExcelWriter(path, engine='openpyxl', mode='a',if_sheet_exists='replace') as writer: \n",
    "            workbook = writer.book\n",
    "            obsDat.to_excel(writer,index=False,sheet_name='Observed')\n",
    "    \n",
    "    try:\n",
    "        obsDat = pd.read_excel(path, engine='openpyxl',sheet_name='MaxLeafSize')\n",
    "        newCols = []\n",
    "        replace = False\n",
    "        for c in obsDat.columns:\n",
    "            if c in MaxLeafSizeRenames.keys():\n",
    "                newCols.append(c.replace(c,MaxLeafSizeRenames[c]))\n",
    "                replace = True\n",
    "            else:\n",
    "                newCols.append(c)\n",
    "        if replace == True:\n",
    "            obsDat.columns = newCols\n",
    "            with pd.ExcelWriter(path, engine='openpyxl', mode='a',if_sheet_exists='replace') as writer: \n",
    "                workbook = writer.book\n",
    "                obsDat.to_excel(writer,index=False,sheet_name='MaxLeafSize')\n",
    "    except:\n",
    "        do = \"Nothing\""
   ]
  }
 ],
 "metadata": {
  "jupytext": {
   "formats": "ipynb,py:light"
  },
  "kernelspec": {
   "display_name": "Python 3 (ipykernel)",
   "language": "python",
   "name": "python3"
  },
  "language_info": {
   "codemirror_mode": {
    "name": "ipython",
    "version": 3
   },
   "file_extension": ".py",
   "mimetype": "text/x-python",
   "name": "python",
   "nbconvert_exporter": "python",
   "pygments_lexer": "ipython3",
   "version": "3.10.13"
  }
 },
 "nbformat": 4,
 "nbformat_minor": 4
}
