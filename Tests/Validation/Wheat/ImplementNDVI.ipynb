{
 "cells": [
  {
   "cell_type": "code",
   "execution_count": 1,
   "metadata": {
    "tags": []
   },
   "outputs": [],
   "source": [
    "import datetime\n",
    "import pandas as pd\n",
    "import numpy as np\n",
    "import matplotlib.pyplot as plt\n",
    "import xml.etree.ElementTree as ET\n",
    "import xmltodict, json\n",
    "import ast\n",
    "import numbers\n",
    "import shlex # package to construct the git command to subprocess format\n",
    "import subprocess \n",
    "import os\n",
    "%matplotlib inline"
   ]
  },
  {
   "cell_type": "code",
   "execution_count": 2,
   "metadata": {
    "tags": []
   },
   "outputs": [],
   "source": [
    "MasterFile = 'C:\\GitHubRepos\\ApsimX\\Tests\\Validation\\Wheat\\Wheat.apsimx'"
   ]
  },
  {
   "cell_type": "code",
   "execution_count": 15,
   "metadata": {
    "tags": []
   },
   "outputs": [],
   "source": [
    "def findModel(Parent,modelPath):\n",
    "    PathElements = modelPath.split('.')\n",
    "    return findModelFromElements(Parent,PathElements)\n",
    "\n",
    "def findModelFromElements(Parent,PathElements):\n",
    "    for pe in PathElements:\n",
    "        Parent = findNextChild(Parent,pe)\n",
    "    return Parent\n",
    "\n",
    "def findNextChild(Parent,ChildName):\n",
    "    if len(Parent['Children']) >0:\n",
    "        for child in range(len(Parent['Children'])):\n",
    "            if Parent['Children'][child]['Name'] == ChildName:\n",
    "                return Parent['Children'][child]\n",
    "    else:\n",
    "        return Parent[ChildName]\n",
    "\n",
    "def swapModels(Parent,modelName,modelType,NDVIModel):\n",
    "    pos=0\n",
    "    for c in Parent['Children']:\n",
    "        if (c['Name'] == modelName) and (c['$type'] == modelType):\n",
    "            params = {c[\"Parameters\"][0]['Key']:float(c[\"Parameters\"][0]['Value']),\n",
    "                     c[\"Parameters\"][1]['Key']:float(c[\"Parameters\"][1]['Value']),\n",
    "                     c[\"Parameters\"][2]['Key']:float(c[\"Parameters\"][2]['Value']),\n",
    "                     c[\"Parameters\"][3]['Key']:float(c[\"Parameters\"][3]['Value'])}\n",
    "            NewModel = NDVIModel.copy()\n",
    "            NewModel[\"DrySoilNDVI\"] = params[\"DrySoilNDVI\"]\n",
    "            NewModel[\"WetSoilNDVI\"] = params[\"WetSoilNDVI\"]\n",
    "            NewModel[\"GreenCropNDVI\"] = params[\"GreenCropNDVI\"]\n",
    "            NewModel[\"DeadCropNDVI\"]  = params[\"DeadCropNDVI\"] \n",
    "            print(str(NewModel[\"DrySoilNDVI\"]))\n",
    "            Parent['Children'].append(NewModel)\n",
    "            del Parent['Children'][pos]            \n",
    "        swapModels(c,modelName,modelType,NDVIModel)\n",
    "        pos+=1"
   ]
  },
  {
   "cell_type": "code",
   "execution_count": 16,
   "metadata": {
    "tags": []
   },
   "outputs": [
    {
     "name": "stdout",
     "output_type": "stream",
     "text": [
      "0.12\n",
      "0.16\n",
      "0.16\n",
      "0.11\n",
      "0.11\n",
      "0.13\n",
      "0.13\n",
      "0.22\n",
      "0.22\n",
      "0.22\n",
      "0.14\n",
      "0.14\n",
      "0.14\n",
      "0.14\n",
      "0.14\n",
      "0.14\n",
      "0.14\n",
      "0.14\n",
      "0.14\n",
      "0.14\n",
      "0.14\n",
      "0.14\n",
      "0.14\n",
      "0.14\n",
      "0.1\n",
      "0.1\n",
      "0.1\n",
      "0.1\n",
      "0.1\n",
      "0.1\n",
      "0.1\n",
      "0.22\n",
      "0.22\n",
      "0.18\n",
      "0.18\n",
      "0.18\n",
      "0.18\n"
     ]
    }
   ],
   "source": [
    "## Read wheat test file into json object\n",
    "with open(MasterFile,'r') as MasterJSON:\n",
    "    Master = json.load(MasterJSON)\n",
    "    MasterJSON.close()\n",
    "\n",
    "NDVIModel = findModel(Master,'Validation.New Zealand.Lincoln2024.Lincoln24Base.Field.NDVI')\n",
    "swapModels(Master,\"NDVIModel\",\"Models.Manager, Models\",NDVIModel)\n",
    "\n",
    "with open(MasterFile,'w') as WheatTestsJSON:\n",
    "    json.dump(Master ,WheatTestsJSON,indent=2)"
   ]
  },
  {
   "cell_type": "code",
   "execution_count": 8,
   "metadata": {
    "tags": []
   },
   "outputs": [
    {
     "data": {
      "text/plain": [
       "{'$type': 'Models.Sensing.NDVI, Models',\n",
       " 'DrySoilNDVI': 0.18,\n",
       " 'WetSoilNDVI': 0.2,\n",
       " 'GreenCropNDVI': 0.95,\n",
       " 'DeadCropNDVI': 0.1,\n",
       " 'Value': 0.0,\n",
       " 'Name': 'NDVI',\n",
       " 'ResourceName': None,\n",
       " 'Children': [],\n",
       " 'Enabled': True,\n",
       " 'ReadOnly': False}"
      ]
     },
     "execution_count": 8,
     "metadata": {},
     "output_type": "execute_result"
    }
   ],
   "source": [
    "NDVIModel"
   ]
  },
  {
   "cell_type": "code",
   "execution_count": 45,
   "metadata": {
    "tags": []
   },
   "outputs": [],
   "source": [
    "#Copy prototype wheat model out of replacements and put it in replacements in test file\n",
    "NDVIModel =  findModel(Master,'Validation.New Zealand.Lincoln2024.Lincoln24Base.Field.NDVI')\n",
    "addModel(Master,'Replacements',NewModel)\n",
    "#Put updated leaf size calculation script into test file\n",
    "NewModel =  findModel(Prototype,'Replacements.OutputMaxLeafSize')\n",
    "replaceModel(Master,'Replacements.MaxLeafSize',NewModel)\n",
    "#Put updated leaf size report into test file\n",
    "NewModel =  findModel(Prototype,'Replacements.ReportMaxLeafSize')\n",
    "replaceModel(Master,'Replacements.MaxLeafSize',NewModel)\n",
    "#bring cultivar descriptions from master back into replacement wheat model\n",
    "NewModel = findModel(Released,'Wheat.Cultivars')\n",
    "replaceModel(Master,'Replacements.Wheat.Cultivars',NewModel)\n",
    "#rename manager scripts to capture max leaf size\n",
    "renameModelofType(Master,'MaxLeafSize',\"Models.Manager, Models\",'OutputMaxLeafSize')"
   ]
  },
  {
   "cell_type": "code",
   "execution_count": 46,
   "metadata": {
    "tags": []
   },
   "outputs": [],
   "source": [
    "os.remove(ImplementedFile)\n",
    "with open(ImplementedFile,'w') as ImplementedJSON:\n",
    "    json.dump(Master ,ImplementedJSON,indent=2)"
   ]
  },
  {
   "cell_type": "code",
   "execution_count": 47,
   "metadata": {
    "tags": []
   },
   "outputs": [],
   "source": [
    "replacements = pd.read_excel(VariableRenamesFile,index_col=0,sheet_name = 'SimpleLeafRenames').to_dict()['SimpleLeaf']\n",
    "with open(ImplementedFile, 'r') as file: \n",
    "    data = file.read() \n",
    "    for v in replacements.keys():\n",
    "        data = data.replace(v, replacements[v])\n",
    "        w = v.replace('Wheat','[Wheat]')\n",
    "        rw = replacements[v].replace('Wheat','[Wheat]')\n",
    "        data = data.replace(w, rw)\n",
    "        \n",
    "# Opening our text file in write only \n",
    "# mode to write the replaced content \n",
    "with open(ImplementedFile, 'w') as file: \n",
    "  \n",
    "    # Writing the replaced data in our \n",
    "    # text file \n",
    "    file.write(data) "
   ]
  },
  {
   "cell_type": "code",
   "execution_count": 50,
   "metadata": {
    "tags": []
   },
   "outputs": [
    {
     "name": "stdout",
     "output_type": "stream",
     "text": [
      "C:\\GitHubRepos\\ApsimX\\Tests\\Validation\\Wheat\\data\\Observed.xlsx tips\n"
     ]
    }
   ],
   "source": [
    "VariableRenames = pd.read_excel(VariableRenamesFile,index_col=0, sheet_name='SimpleLeafRenames').to_dict()['SimpleLeaf']\n",
    "MaxLeafSizeRenames = pd.read_excel(VariableRenamesFile,index_col=0, sheet_name='MaxLeafSizeRenames').to_dict()['SimpleLeaf']\n",
    "\n",
    "from pathlib import Path\n",
    "fileLoc = 'C:\\GitHubRepos\\ApsimX\\Tests\\Validation\\Wheat\\data'\n",
    "Allcols = []\n",
    "pathlist = Path(fileLoc).glob('**/*.xlsx')\n",
    "for path in pathlist:\n",
    "    # because path is object not string\n",
    "    obsDat = pd.read_excel(path, engine='openpyxl',sheet_name='Observed')\n",
    "    newCols = []\n",
    "    replace = False\n",
    "    for c in obsDat.columns:\n",
    "        if c in VariableRenames.keys():\n",
    "            newCols.append(c.replace(c,VariableRenames[c]))\n",
    "            replace = True\n",
    "            if c == \"Wheat.Leaf.Tips\":\n",
    "                print(str(path) + \" tips\")\n",
    "        else:\n",
    "            newCols.append(c)\n",
    "    if replace == True:\n",
    "        obsDat.columns = newCols\n",
    "        with pd.ExcelWriter(path, engine='openpyxl', mode='a',if_sheet_exists='replace') as writer: \n",
    "            workbook = writer.book\n",
    "            obsDat.to_excel(writer,index=False,sheet_name='Observed')\n",
    "    \n",
    "    try:\n",
    "        obsDat = pd.read_excel(path, engine='openpyxl',sheet_name='MaxLeafSize')\n",
    "        newCols = []\n",
    "        replace = False\n",
    "        for c in obsDat.columns:\n",
    "            if c in MaxLeafSizeRenames.keys():\n",
    "                newCols.append(c.replace(c,MaxLeafSizeRenames[c]))\n",
    "                replace = True\n",
    "            else:\n",
    "                newCols.append(c)\n",
    "        if replace == True:\n",
    "            obsDat.columns = newCols\n",
    "            with pd.ExcelWriter(path, engine='openpyxl', mode='a',if_sheet_exists='replace') as writer: \n",
    "                workbook = writer.book\n",
    "                obsDat.to_excel(writer,index=False,sheet_name='MaxLeafSize')\n",
    "    except:\n",
    "        do = \"Nothing\""
   ]
  },
  {
   "cell_type": "code",
   "execution_count": 49,
   "metadata": {
    "tags": []
   },
   "outputs": [],
   "source": [
    "## Find and delete model of name and type\n",
    "# def removeModel(Parent,modelName,modelType):\n",
    "#     pos = 0\n",
    "#     for c in Parent['Children']:\n",
    "#         if (c['Name'] == modelName) and (c['$type'] == modelType):\n",
    "#             del Parent['Children'][pos]\n",
    "#             found = True\n",
    "#             break\n",
    "#         else:\n",
    "#             removeModel(c,modelName,modelType)\n",
    "#         pos += 1\n",
    "        \n",
    "# MasterFile = 'C:\\GitHubRepos\\ApsimX\\Tests\\Validation\\Wheat\\Wheat.apsimx'\n",
    "# with open(MasterFile,'r') as MasterJSON:\n",
    "#     Master = json.load(MasterJSON)\n",
    "#     MasterJSON.close()\n",
    "        \n",
    "# removeModel(Master,\"SetCropParams\",\"Models.Manager, Models\")\n",
    "# removeModel(Master,\"SowingReport\",\"Models.Report, Models\")\n",
    "\n",
    "# with open(MasterFile,'w') as MasterJSON:\n",
    "#     json.dump(Master ,MasterJSON,indent=2)"
   ]
  }
 ],
 "metadata": {
  "jupytext": {
   "formats": "ipynb,py:light"
  },
  "kernelspec": {
   "display_name": "Python 3 (ipykernel)",
   "language": "python",
   "name": "python3"
  },
  "language_info": {
   "codemirror_mode": {
    "name": "ipython",
    "version": 3
   },
   "file_extension": ".py",
   "mimetype": "text/x-python",
   "name": "python",
   "nbconvert_exporter": "python",
   "pygments_lexer": "ipython3",
   "version": "3.10.13"
  }
 },
 "nbformat": 4,
 "nbformat_minor": 4
}
